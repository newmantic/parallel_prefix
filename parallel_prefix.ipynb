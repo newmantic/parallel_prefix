{
  "nbformat": 4,
  "nbformat_minor": 0,
  "metadata": {
    "colab": {
      "provenance": [],
      "authorship_tag": "ABX9TyPZVFFvm92idh27KOmqWuTf",
      "include_colab_link": true
    },
    "kernelspec": {
      "name": "python3",
      "display_name": "Python 3"
    },
    "language_info": {
      "name": "python"
    }
  },
  "cells": [
    {
      "cell_type": "markdown",
      "metadata": {
        "id": "view-in-github",
        "colab_type": "text"
      },
      "source": [
        "<a href=\"https://colab.research.google.com/github/newmantic/parallel_prefix/blob/main/parallel_prefix.ipynb\" target=\"_parent\"><img src=\"https://colab.research.google.com/assets/colab-badge.svg\" alt=\"Open In Colab\"/></a>"
      ]
    },
    {
      "cell_type": "code",
      "execution_count": 1,
      "metadata": {
        "id": "-_RxtcnaT-FN"
      },
      "outputs": [],
      "source": [
        "import numpy as np\n",
        "from concurrent.futures import ThreadPoolExecutor"
      ]
    },
    {
      "cell_type": "code",
      "source": [
        "def parallel_prefix_sum(arr, inclusive=True):\n",
        "    n = len(arr)\n",
        "    if n == 0:\n",
        "        return arr\n",
        "\n",
        "    output = np.zeros(n, dtype=arr.dtype)\n",
        "\n",
        "    if inclusive:\n",
        "        # Start with inclusive scan (each element includes itself in the sum)\n",
        "        output[0] = arr[0]\n",
        "    else:\n",
        "        # Start with exclusive scan (first element is 0, sum starts from second element)\n",
        "        output[0] = 0\n",
        "\n",
        "    def compute_range(start, end, step):\n",
        "        for i in range(start, end, step):\n",
        "            output[i] = output[i - step] + arr[i - step]\n",
        "\n",
        "    # Phase 1: Up-sweep (reduce) phase\n",
        "    step = 1\n",
        "    while step < n:\n",
        "        with ThreadPoolExecutor() as executor:\n",
        "            for i in range(step, n, 2 * step):\n",
        "                executor.submit(compute_range, i, n, step)\n",
        "        step *= 2\n",
        "\n",
        "    if not inclusive:\n",
        "        # Phase 2: Down-sweep phase for exclusive scan\n",
        "        output[-1] = 0\n",
        "        step //= 2\n",
        "        while step > 0:\n",
        "            with ThreadPoolExecutor() as executor:\n",
        "                for i in range(step, n, 2 * step):\n",
        "                    executor.submit(compute_range, i, n, step)\n",
        "            step //= 2\n",
        "\n",
        "        # Correct final step for exclusive scan\n",
        "        for i in range(n - 1, 0, -1):\n",
        "            output[i] = output[i - 1] + arr[i - 1]\n",
        "        output[0] = 0\n",
        "\n",
        "    return output"
      ],
      "metadata": {
        "id": "TczK0JKyURpl"
      },
      "execution_count": 2,
      "outputs": []
    },
    {
      "cell_type": "code",
      "source": [
        "def test_case_1():\n",
        "    arr = np.array([1, 2, 3, 4, 5])\n",
        "    result = parallel_prefix_sum(arr, inclusive=True)\n",
        "    print(\"Input array:\", arr)\n",
        "    print(\"Inclusive Prefix Sum:\", result)\n",
        "\n",
        "test_case_1()"
      ],
      "metadata": {
        "colab": {
          "base_uri": "https://localhost:8080/"
        },
        "id": "o3nFTtgXUUlt",
        "outputId": "d06de29b-fd1a-4381-eb04-d6ee37a14f9f"
      },
      "execution_count": 3,
      "outputs": [
        {
          "output_type": "stream",
          "name": "stdout",
          "text": [
            "Input array: [1 2 3 4 5]\n",
            "Inclusive Prefix Sum: [1 2 2 7 2]\n"
          ]
        }
      ]
    },
    {
      "cell_type": "code",
      "source": [
        "def test_case_2():\n",
        "    arr = np.array([1, 2, 3, 4, 5])\n",
        "    result = parallel_prefix_sum(arr, inclusive=False)\n",
        "    print(\"Input array:\", arr)\n",
        "    print(\"Exclusive Prefix Sum:\", result)\n",
        "\n",
        "test_case_2()"
      ],
      "metadata": {
        "colab": {
          "base_uri": "https://localhost:8080/"
        },
        "id": "86QF07hVUXKb",
        "outputId": "aa89356c-eb0c-4b4b-df4a-2a324e0622ec"
      },
      "execution_count": 4,
      "outputs": [
        {
          "output_type": "stream",
          "name": "stdout",
          "text": [
            "Input array: [1 2 3 4 5]\n",
            "Exclusive Prefix Sum: [ 0  1  3  6 10]\n"
          ]
        }
      ]
    },
    {
      "cell_type": "code",
      "source": [
        "def test_case_3():\n",
        "    arr = np.random.randint(1, 100, size=1000)\n",
        "    result_inclusive = parallel_prefix_sum(arr, inclusive=True)\n",
        "    result_exclusive = parallel_prefix_sum(arr, inclusive=False)\n",
        "    print(\"First 10 elements of the input array:\", arr[:10])\n",
        "    print(\"First 10 elements of the Inclusive Prefix Sum:\", result_inclusive[:10])\n",
        "    print(\"First 10 elements of the Exclusive Prefix Sum:\", result_exclusive[:10])\n",
        "\n",
        "test_case_3()"
      ],
      "metadata": {
        "colab": {
          "base_uri": "https://localhost:8080/"
        },
        "id": "dnnzvqUbUZHz",
        "outputId": "bf03adad-bde0-44d1-d2b4-caf90175ce9b"
      },
      "execution_count": 5,
      "outputs": [
        {
          "output_type": "stream",
          "name": "stdout",
          "text": [
            "First 10 elements of the input array: [35 11 32 11 97 18 50 49 90 61]\n",
            "First 10 elements of the Inclusive Prefix Sum: [ 35  70  70 113  70 221 199 289  70 428]\n",
            "First 10 elements of the Exclusive Prefix Sum: [  0  35  46  78  89 186 204 254 303 393]\n"
          ]
        }
      ]
    },
    {
      "cell_type": "code",
      "source": [],
      "metadata": {
        "id": "umDoi-VFUbdc"
      },
      "execution_count": null,
      "outputs": []
    }
  ]
}